{
 "cells": [
  {
   "cell_type": "code",
   "execution_count": null,
   "metadata": {},
   "outputs": [],
   "source": [
    "from __future__ import division\n",
    "from __future__ import print_function"
   ]
  },
  {
   "cell_type": "code",
   "execution_count": null,
   "metadata": {},
   "outputs": [],
   "source": [
    "import os\n",
    "import random\n",
    "import numpy as np\n",
    "import cv2\n",
    "from SamplePreprocessor import preprocess"
   ]
  },
  {
   "cell_type": "code",
   "execution_count": null,
   "metadata": {},
   "outputs": [],
   "source": [
    "class Sample:\n",
    "\t\"sample from the dataset\"\n",
    "\tdef __init__(self, gtText, filePath):\n",
    "\t\tself.gtText = gtText\n",
    "\t\tself.filePath = filePath"
   ]
  },
  {
   "cell_type": "code",
   "execution_count": null,
   "metadata": {},
   "outputs": [],
   "source": [
    "class Batch:\n",
    "\t\"batch containing images and ground truth texts\"\n",
    "\tdef __init__(self, gtTexts, imgs):\n",
    "\t\tself.imgs = np.stack(imgs, axis=0)\n",
    "\t\tself.gtTexts = gtTexts"
   ]
  },
  {
   "cell_type": "code",
   "execution_count": null,
   "metadata": {},
   "outputs": [],
   "source": [
    "class DataLoader:\n",
    "\t\"loads data which corresponds to IAM format, see: http://www.fki.inf.unibe.ch/databases/iam-handwriting-database\" \n",
    "\n",
    "\tdef __init__(self, filePath, batchSize, imgSize, maxTextLen):\n",
    "\t\t\"loader for dataset at given location, preprocess images and text according to parameters\"\n",
    "\n",
    "\t\tassert filePath[-1]=='/'\n",
    "\n",
    "\t\tself.dataAugmentation = False\n",
    "\t\tself.currIdx = 0\n",
    "\t\tself.batchSize = batchSize\n",
    "\t\tself.imgSize = imgSize\n",
    "\t\tself.samples = []\n",
    "\t\n",
    "\t\tf=open(filePath+'words.txt')\n",
    "\t\tchars = set()\n",
    "\t\tbad_samples = []\n",
    "\t\tbad_samples_reference = ['a01-117-05-02.png', 'r06-022-03-05.png']\n",
    "\t\tfor line in f:\n",
    "\t\t\t# ignore comment line\n",
    "\t\t\tif not line or line[0]=='#':\n",
    "\t\t\t\tcontinue\n",
    "\t\t\t\n",
    "\t\t\tlineSplit = line.strip().split(' ')\n",
    "\t\t\tassert len(lineSplit) >= 9\n",
    "\t\t\t\n",
    "\t\t\t# filename: part1-part2-part3 --> part1/part1-part2/part1-part2-part3.png\n",
    "\t\t\tfileNameSplit = lineSplit[0].split('-')\n",
    "\t\t\tfileName = filePath + 'words/' + fileNameSplit[0] + '/' + fileNameSplit[0] + '-' + fileNameSplit[1] + '/' + lineSplit[0] + '.png'\n",
    "\n",
    "\t\t\t# GT text are columns starting at 9\n",
    "\t\t\tgtText = self.truncateLabel(' '.join(lineSplit[8:]), maxTextLen)\n",
    "\t\t\tchars = chars.union(set(list(gtText)))\n",
    "\n",
    "\t\t\t# check if image is not empty\n",
    "\t\t\tif not os.path.getsize(fileName):\n",
    "\t\t\t\tbad_samples.append(lineSplit[0] + '.png')\n",
    "\t\t\t\tcontinue\n",
    "\n",
    "\t\t\t# put sample into list\n",
    "\t\t\tself.samples.append(Sample(gtText, fileName))\n",
    "\n",
    "\t\t# some images in the IAM dataset are known to be damaged, don't show warning for them\n",
    "\t\tif set(bad_samples) != set(bad_samples_reference):\n",
    "\t\t\tprint(\"Warning, damaged images found:\", bad_samples)\n",
    "\t\t\tprint(\"Damaged images expected:\", bad_samples_reference)\n",
    "\n",
    "\t\t# split into training and validation set: 95% - 5%\n",
    "\t\tsplitIdx = int(0.95 * len(self.samples))\n",
    "\t\tself.trainSamples = self.samples[:splitIdx]\n",
    "\t\tself.validationSamples = self.samples[splitIdx:]\n",
    "\n",
    "\t\t# put words into lists\n",
    "\t\tself.trainWords = [x.gtText for x in self.trainSamples]\n",
    "\t\tself.validationWords = [x.gtText for x in self.validationSamples]\n",
    "\n",
    "\t\t# number of randomly chosen samples per epoch for training \n",
    "\t\tself.numTrainSamplesPerEpoch = 25000 \n",
    "\t\t\n",
    "\t\t# start with train set\n",
    "\t\tself.trainSet()\n",
    "\n",
    "\t\t# list of all chars in dataset\n",
    "\t\tself.charList = sorted(list(chars))"
   ]
  },
  {
   "cell_type": "code",
   "execution_count": null,
   "metadata": {},
   "outputs": [],
   "source": [
    "\tdef truncateLabel(self, text, maxTextLen):\n",
    "\t\t# ctc_loss can't compute loss if it cannot find a mapping between text label and input \n",
    "\t\t# labels. Repeat letters cost double because of the blank symbol needing to be inserted.\n",
    "\t\t# If a too-long label is provided, ctc_loss returns an infinite gradient\n",
    "\t\tcost = 0\n",
    "\t\tfor i in range(len(text)):\n",
    "\t\t\tif i != 0 and text[i] == text[i-1]:\n",
    "\t\t\t\tcost += 2\n",
    "\t\t\telse:\n",
    "\t\t\t\tcost += 1\n",
    "\t\t\tif cost > maxTextLen:\n",
    "\t\t\t\treturn text[:i]\n",
    "\t\treturn text"
   ]
  },
  {
   "cell_type": "code",
   "execution_count": null,
   "metadata": {},
   "outputs": [],
   "source": [
    "\tdef trainSet(self):\n",
    "\t\t\"switch to randomly chosen subset of training set\"\n",
    "\t\tself.dataAugmentation = True\n",
    "\t\tself.currIdx = 0\n",
    "\t\trandom.shuffle(self.trainSamples)\n",
    "\t\tself.samples = self.trainSamples[:self.numTrainSamplesPerEpoch]"
   ]
  },
  {
   "cell_type": "code",
   "execution_count": null,
   "metadata": {},
   "outputs": [],
   "source": [
    "\t\n",
    "\tdef validationSet(self):\n",
    "\t\t\"switch to validation set\"\n",
    "\t\tself.dataAugmentation = False\n",
    "\t\tself.currIdx = 0\n",
    "\t\tself.samples = self.validationSamples"
   ]
  },
  {
   "cell_type": "code",
   "execution_count": null,
   "metadata": {},
   "outputs": [],
   "source": [
    "\tdef getIteratorInfo(self):\n",
    "\t\t\"current batch index and overall number of batches\"\n",
    "\t\treturn (self.currIdx // self.batchSize + 1, len(self.samples) // self.batchSize)"
   ]
  },
  {
   "cell_type": "code",
   "execution_count": null,
   "metadata": {},
   "outputs": [],
   "source": [
    "\tdef hasNext(self):\n",
    "\t\t\"iterator\"\n",
    "\t\treturn self.currIdx + self.batchSize <= len(self.samples)\n",
    "\t\t\n",
    "\t\t"
   ]
  },
  {
   "cell_type": "code",
   "execution_count": null,
   "metadata": {},
   "outputs": [],
   "source": [
    "\tdef getNext(self):\n",
    "\t\t\"iterator\"\n",
    "\t\tbatchRange = range(self.currIdx, self.currIdx + self.batchSize)\n",
    "\t\tgtTexts = [self.samples[i].gtText for i in batchRange]\n",
    "\t\timgs = [preprocess(cv2.imread(self.samples[i].filePath, cv2.IMREAD_GRAYSCALE), self.imgSize, self.dataAugmentation) for i in batchRange]\n",
    "\t\tself.currIdx += self.batchSize\n",
    "\t\treturn Batch(gtTexts, imgs)\n"
   ]
  }
 ],
 "metadata": {
  "kernelspec": {
   "display_name": "Python 3",
   "language": "python",
   "name": "python3"
  },
  "language_info": {
   "codemirror_mode": {
    "name": "ipython",
    "version": 3
   },
   "file_extension": ".py",
   "mimetype": "text/x-python",
   "name": "python",
   "nbconvert_exporter": "python",
   "pygments_lexer": "ipython3",
   "version": "3.6.8"
  }
 },
 "nbformat": 4,
 "nbformat_minor": 2
}
