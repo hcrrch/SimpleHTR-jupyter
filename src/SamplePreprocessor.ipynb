{
 "cells": [
  {
   "cell_type": "code",
   "execution_count": null,
   "metadata": {},
   "outputs": [],
   "source": [
    "from __future__ import division\n",
    "from __future__ import print_function"
   ]
  },
  {
   "cell_type": "code",
   "execution_count": null,
   "metadata": {},
   "outputs": [],
   "source": [
    "import random\n",
    "import numpy as np\n",
    "import cv2"
   ]
  },
  {
   "cell_type": "code",
   "execution_count": null,
   "metadata": {},
   "outputs": [],
   "source": [
    "def preprocess(img, imgSize, dataAugmentation=False):\n",
    "\t\"put img into target img of size imgSize, transpose for TF and normalize gray-values\"\n",
    "\n",
    "\t# there are damaged files in IAM dataset - just use black image instead\n",
    "\tif img is None:\n",
    "\t\timg = np.zeros([imgSize[1], imgSize[0]])\n",
    "\n",
    "\t# increase dataset size by applying random stretches to the images\n",
    "\tif dataAugmentation:\n",
    "\t\tstretch = (random.random() - 0.5) # -0.5 .. +0.5\n",
    "\t\twStretched = max(int(img.shape[1] * (1 + stretch)), 1) # random width, but at least 1\n",
    "\t\timg = cv2.resize(img, (wStretched, img.shape[0])) # stretch horizontally by factor 0.5 .. 1.5\n",
    "\t\n",
    "\t# create target image and copy sample image into it\n",
    "\t(wt, ht) = imgSize\n",
    "\t(h, w) = img.shape\n",
    "\tfx = w / wt\n",
    "\tfy = h / ht\n",
    "\tf = max(fx, fy)\n",
    "\tnewSize = (max(min(wt, int(w / f)), 1), max(min(ht, int(h / f)), 1)) # scale according to f (result at least 1 and at most wt or ht)\n",
    "\timg = cv2.resize(img, newSize)\n",
    "\ttarget = np.ones([ht, wt]) * 255\n",
    "\ttarget[0:newSize[1], 0:newSize[0]] = img\n",
    "\n",
    "\t# transpose for TF\n",
    "\timg = cv2.transpose(target)\n",
    "\n",
    "\t# normalize\n",
    "\t(m, s) = cv2.meanStdDev(img)\n",
    "\tm = m[0][0]\n",
    "\ts = s[0][0]\n",
    "\timg = img - m\n",
    "\timg = img / s if s>0 else img\n",
    "\treturn img\n",
    "\n"
   ]
  }
 ],
 "metadata": {
  "kernelspec": {
   "display_name": "Python 3",
   "language": "python",
   "name": "python3"
  },
  "language_info": {
   "codemirror_mode": {
    "name": "ipython",
    "version": 3
   },
   "file_extension": ".py",
   "mimetype": "text/x-python",
   "name": "python",
   "nbconvert_exporter": "python",
   "pygments_lexer": "ipython3",
   "version": "3.6.8"
  }
 },
 "nbformat": 4,
 "nbformat_minor": 2
}
