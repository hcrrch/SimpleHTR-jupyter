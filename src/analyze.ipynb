{
 "cells": [
  {
   "cell_type": "code",
   "execution_count": null,
   "metadata": {},
   "outputs": [],
   "source": [
    "from __future__ import division\n",
    "from __future__ import print_function"
   ]
  },
  {
   "cell_type": "code",
   "execution_count": null,
   "metadata": {},
   "outputs": [],
   "source": [
    "import sys\n",
    "import math\n",
    "import pickle\n",
    "import copy\n",
    "import numpy as np\n",
    "import cv2\n",
    "import matplotlib.pyplot as plt\n",
    "from DataLoader import Batch\n",
    "from Model import Model, DecoderType\n",
    "from SamplePreprocessor import preprocess"
   ]
  },
  {
   "cell_type": "code",
   "execution_count": null,
   "metadata": {},
   "outputs": [],
   "source": [
    "# constants like filepaths\n",
    "class Constants:\n",
    "\t\"filenames and paths to data\"\n",
    "\tfnCharList = '../model/charList.txt'\n",
    "\tfnAnalyze = '../data/analyze.png'\n",
    "\tfnPixelRelevance = '../data/pixelRelevance.npy'\n",
    "\tfnTranslationInvariance = '../data/translationInvariance.npy'\n",
    "\tfnTranslationInvarianceTexts = '../data/translationInvarianceTexts.pickle'\n",
    "\tgtText = 'are'\n",
    "\tdistribution = 'histogram' # 'histogram' or 'uniform'"
   ]
  },
  {
   "cell_type": "code",
   "execution_count": null,
   "metadata": {},
   "outputs": [],
   "source": [
    "def odds(val):\n",
    "\treturn val / (1 - val)"
   ]
  },
  {
   "cell_type": "code",
   "execution_count": null,
   "metadata": {},
   "outputs": [],
   "source": [
    "def weightOfEvidence(origProb, margProb):\n",
    "\treturn math.log2(odds(origProb)) - math.log2(odds(margProb))\n",
    "\t\n",
    "\t"
   ]
  },
  {
   "cell_type": "code",
   "execution_count": null,
   "metadata": {},
   "outputs": [],
   "source": [
    "def analyzePixelRelevance():\n",
    "\t\"simplified implementation of paper: Zintgraf et al - Visualizing Deep Neural Network Decisions: Prediction Difference Analysis\"\n",
    "\t\n",
    "\t# setup model\n",
    "\tmodel = Model(open(Constants.fnCharList).read(), DecoderType.BestPath, mustRestore=True)\n",
    "\t\n",
    "\t# read image and specify ground-truth text\n",
    "\timg = cv2.imread(Constants.fnAnalyze, cv2.IMREAD_GRAYSCALE)\n",
    "\t(w, h) = img.shape\n",
    "\tassert Model.imgSize[1] == w\n",
    "\t\n",
    "\t# compute probability of gt text in original image\n",
    "\tbatch = Batch([Constants.gtText], [preprocess(img, Model.imgSize)])\n",
    "\t(_, probs) = model.inferBatch(batch, calcProbability=True, probabilityOfGT=True)\n",
    "\torigProb = probs[0]\n",
    "\t\n",
    "\tgrayValues = [0, 63, 127, 191, 255]\n",
    "\tif Constants.distribution == 'histogram':\n",
    "\t\tbins = [0, 31, 95, 159, 223, 255]\n",
    "\t\t(hist, _) = np.histogram(img, bins=bins)\n",
    "\t\tpixelProb = hist / sum(hist)\n",
    "\telif Constants.distribution == 'uniform':\n",
    "\t\tpixelProb = [1.0 / len(grayValues) for _ in grayValues]\n",
    "\telse:\n",
    "\t\traise Exception('unknown value for Constants.distribution')\n",
    "\t\n",
    "\t# iterate over all pixels in image\n",
    "\tpixelRelevance = np.zeros(img.shape, np.float32)\n",
    "\tfor x in range(w):\n",
    "\t\tfor y in range(h):\n",
    "\t\t\t\n",
    "\t\t\t# try a subset of possible grayvalues of pixel (x,y)\n",
    "\t\t\timgsMarginalized = []\n",
    "\t\t\tfor g in grayValues:\n",
    "\t\t\t\timgChanged = copy.deepcopy(img)\n",
    "\t\t\t\timgChanged[x, y] = g\n",
    "\t\t\t\timgsMarginalized.append(preprocess(imgChanged, Model.imgSize))\n",
    "\n",
    "\t\t\t# put them all into one batch\n",
    "\t\t\tbatch = Batch([Constants.gtText]*len(imgsMarginalized), imgsMarginalized)\n",
    "\t\t\t\n",
    "\t\t\t# compute probabilities\n",
    "\t\t\t(_, probs) = model.inferBatch(batch, calcProbability=True, probabilityOfGT=True)\n",
    "\t\t\t\n",
    "\t\t\t# marginalize over pixel value (assume uniform distribution)\n",
    "\t\t\tmargProb = sum([probs[i] * pixelProb[i] for i in range(len(grayValues))])\n",
    "\t\t\t\n",
    "\t\t\tpixelRelevance[x, y] = weightOfEvidence(origProb, margProb)\n",
    "\t\t\t\n",
    "\t\t\tprint(x, y, pixelRelevance[x, y], origProb, margProb)\n",
    "\t\t\t\n",
    "\tnp.save(Constants.fnPixelRelevance, pixelRelevance)"
   ]
  },
  {
   "cell_type": "code",
   "execution_count": null,
   "metadata": {},
   "outputs": [],
   "source": [
    "def analyzeTranslationInvariance():\n",
    "\t# setup model\n",
    "\tmodel = Model(open(Constants.fnCharList).read(), DecoderType.BestPath, mustRestore=True)\n",
    "\t\n",
    "\t# read image and specify ground-truth text\n",
    "\timg = cv2.imread(Constants.fnAnalyze, cv2.IMREAD_GRAYSCALE)\n",
    "\t(w, h) = img.shape\n",
    "\tassert Model.imgSize[1] == w\n",
    "\t\n",
    "\timgList = []\n",
    "\tfor dy in range(Model.imgSize[0]-h+1):\n",
    "\t\ttargetImg = np.ones((Model.imgSize[1], Model.imgSize[0])) * 255\n",
    "\t\ttargetImg[:,dy:h+dy] = img\n",
    "\t\timgList.append(preprocess(targetImg, Model.imgSize))\n",
    "\t\n",
    "\t# put images and gt texts into batch\n",
    "\tbatch = Batch([Constants.gtText]*len(imgList), imgList)\n",
    "\t\n",
    "\t# compute probabilities\n",
    "\t(texts, probs) = model.inferBatch(batch, calcProbability=True, probabilityOfGT=True)\n",
    "\t\n",
    "\t# save results to file\n",
    "\tf = open(Constants.fnTranslationInvarianceTexts, 'wb')\n",
    "\tpickle.dump(texts, f)\n",
    "\tf.close()\n",
    "\tnp.save(Constants.fnTranslationInvariance, probs)"
   ]
  },
  {
   "cell_type": "code",
   "execution_count": null,
   "metadata": {},
   "outputs": [],
   "source": [
    "def showResults():\n",
    "\t# 1. pixel relevance\n",
    "\tpixelRelevance = np.load(Constants.fnPixelRelevance)\n",
    "\tplt.figure('Pixel relevance')\n",
    "\t\n",
    "\tplt.imshow(pixelRelevance, cmap=plt.cm.jet, vmin=-0.25, vmax=0.25)\n",
    "\tplt.colorbar()\n",
    "\t\n",
    "\timg = cv2.imread(Constants.fnAnalyze, cv2.IMREAD_GRAYSCALE)\n",
    "\tplt.imshow(img, cmap=plt.cm.gray, alpha=.4)\n",
    "\t\n",
    "\n",
    "\t# 2. translation invariance\n",
    "\tprobs = np.load(Constants.fnTranslationInvariance)\n",
    "\tf = open(Constants.fnTranslationInvarianceTexts, 'rb')\n",
    "\ttexts = pickle.load(f)\n",
    "\ttexts = ['%d:'%i + texts[i] for i in range(len(texts))]\n",
    "\tf.close()\n",
    "\t\n",
    "\tplt.figure('Translation invariance')\n",
    "\t\n",
    "\tplt.plot(probs, 'o-')\n",
    "\tplt.xticks(np.arange(len(texts)), texts, rotation='vertical')\n",
    "\tplt.xlabel('horizontal translation and best path')\n",
    "\tplt.ylabel('text probability of \"%s\"'%Constants.gtText)\n",
    "\t\n",
    "\t# show both plots\n",
    "\tplt.show()"
   ]
  },
  {
   "cell_type": "code",
   "execution_count": null,
   "metadata": {},
   "outputs": [],
   "source": [
    "if __name__ == '__main__':\n",
    "\tif len(sys.argv)>1:\n",
    "\t\tif sys.argv[1]=='--relevance':\n",
    "\t\t\tprint('Analyze pixel relevance')\n",
    "\t\t\tanalyzePixelRelevance()\n",
    "\t\telif sys.argv[1]=='--invariance':\n",
    "\t\t\tprint('Analyze translation invariance')\n",
    "\t\t\tanalyzeTranslationInvariance()\n",
    "\telse:\n",
    "\t\tprint('Show results')\n",
    "\t\tshowResults()"
   ]
  }
 ],
 "metadata": {
  "kernelspec": {
   "display_name": "Python 3",
   "language": "python",
   "name": "python3"
  },
  "language_info": {
   "codemirror_mode": {
    "name": "ipython",
    "version": 3
   },
   "file_extension": ".py",
   "mimetype": "text/x-python",
   "name": "python",
   "nbconvert_exporter": "python",
   "pygments_lexer": "ipython3",
   "version": "3.6.8"
  }
 },
 "nbformat": 4,
 "nbformat_minor": 2
}
